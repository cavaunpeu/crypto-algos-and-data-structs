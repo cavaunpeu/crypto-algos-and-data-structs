{
 "cells": [
  {
   "cell_type": "code",
   "execution_count": 25,
   "id": "66af914c-9902-4426-bb3e-f16505c0915e",
   "metadata": {},
   "outputs": [],
   "source": [
    "import numpy as np"
   ]
  },
  {
   "cell_type": "code",
   "execution_count": 15,
   "id": "d8c57036-f67c-4c12-a283-a48ef7853bca",
   "metadata": {},
   "outputs": [],
   "source": [
    "# for transaction: https://etherscan.io/tx/0x97d5b994e43e09b70da0a95220f118238acf07f68f81a98e3a321bec3c9dd9be\n",
    "\n",
    "# constants\n",
    "gwei_per_eth = 1e9\n",
    "\n",
    "# inputs\n",
    "max_priority_fee_per_gas = 1.01\n",
    "base_fee_per_gas = 127.331234891\n",
    "max_fee_per_gas = 132.207666075\n",
    "gas_limit = 95648\n",
    "\n",
    "# outputs\n",
    "transaction_fee = 0.012275582434854368 * gwei_per_eth\n",
    "burnt_fees = 0.012178977954854368 * gwei_per_eth\n",
    "txn_savings = 0.000369816409887232 * gwei_per_eth"
   ]
  },
  {
   "cell_type": "markdown",
   "id": "4ed66b40-6bc3-4b55-be8a-0fbc8f385661",
   "metadata": {},
   "source": [
    "# compute transaction fee"
   ]
  },
  {
   "cell_type": "code",
   "execution_count": 13,
   "id": "c54efd45-bf27-4232-b61d-ce8b5d58f3dc",
   "metadata": {},
   "outputs": [],
   "source": [
    "assert (base_fee_per_gas + max_priority_fee_per_gas) * gas_limit == transaction_fee"
   ]
  },
  {
   "cell_type": "markdown",
   "id": "483f30cc-a36e-4da3-8ae5-77d9c64d9825",
   "metadata": {},
   "source": [
    "# compute burnt fees"
   ]
  },
  {
   "cell_type": "code",
   "execution_count": 14,
   "id": "e36d03c3-4f77-46d0-a630-db3aa561f01c",
   "metadata": {},
   "outputs": [],
   "source": [
    "assert base_fee_per_gas * gas_limit == burnt_fees"
   ]
  },
  {
   "cell_type": "markdown",
   "id": "4c337f18-598f-4933-9b96-055b6ad03c3a",
   "metadata": {},
   "source": [
    "# compute savings"
   ]
  },
  {
   "cell_type": "code",
   "execution_count": 27,
   "id": "8fc86533-823b-423b-a758-5388aec7e31b",
   "metadata": {},
   "outputs": [],
   "source": [
    "savings_per_gas = max_fee_per_gas - (base_fee_per_gas + max_priority_fee_per_gas)\n",
    "np.testing.assert_almost_equal(savings_per_gas * gas_limit, txn_savings)"
   ]
  }
 ],
 "metadata": {
  "kernelspec": {
   "display_name": "Python 3 (ipykernel)",
   "language": "python",
   "name": "python3"
  },
  "language_info": {
   "codemirror_mode": {
    "name": "ipython",
    "version": 3
   },
   "file_extension": ".py",
   "mimetype": "text/x-python",
   "name": "python",
   "nbconvert_exporter": "python",
   "pygments_lexer": "ipython3",
   "version": "3.8.3"
  }
 },
 "nbformat": 4,
 "nbformat_minor": 5
}
